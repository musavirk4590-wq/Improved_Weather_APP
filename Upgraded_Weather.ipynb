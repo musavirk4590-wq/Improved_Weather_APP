{
 "cells": [
  {
   "cell_type": "code",
   "execution_count": 33,
   "id": "d37cbcab",
   "metadata": {},
   "outputs": [
    {
     "name": "stdout",
     "output_type": "stream",
     "text": [
      "Requirement already satisfied: fastapi in e:\\anaconda\\lib\\site-packages (0.120.0)\n",
      "Requirement already satisfied: requests in e:\\anaconda\\lib\\site-packages (2.32.3)\n",
      "Requirement already satisfied: uvicorn[standard] in e:\\anaconda\\lib\\site-packages (0.38.0)\n",
      "Requirement already satisfied: starlette<0.49.0,>=0.40.0 in e:\\anaconda\\lib\\site-packages (from fastapi) (0.48.0)\n",
      "Requirement already satisfied: pydantic!=1.8,!=1.8.1,!=2.0.0,!=2.0.1,!=2.1.0,<3.0.0,>=1.7.4 in e:\\anaconda\\lib\\site-packages (from fastapi) (2.8.2)\n",
      "Requirement already satisfied: typing-extensions>=4.8.0 in e:\\anaconda\\lib\\site-packages (from fastapi) (4.11.0)\n",
      "Requirement already satisfied: annotated-doc>=0.0.2 in e:\\anaconda\\lib\\site-packages (from fastapi) (0.0.3)\n",
      "Requirement already satisfied: click>=7.0 in e:\\anaconda\\lib\\site-packages (from uvicorn[standard]) (8.1.7)\n",
      "Requirement already satisfied: h11>=0.8 in e:\\anaconda\\lib\\site-packages (from uvicorn[standard]) (0.14.0)\n",
      "Requirement already satisfied: colorama>=0.4 in e:\\anaconda\\lib\\site-packages (from uvicorn[standard]) (0.4.6)\n",
      "Requirement already satisfied: httptools>=0.6.3 in e:\\anaconda\\lib\\site-packages (from uvicorn[standard]) (0.7.1)\n",
      "Requirement already satisfied: python-dotenv>=0.13 in e:\\anaconda\\lib\\site-packages (from uvicorn[standard]) (0.21.0)\n",
      "Requirement already satisfied: pyyaml>=5.1 in e:\\anaconda\\lib\\site-packages (from uvicorn[standard]) (6.0.1)\n",
      "Requirement already satisfied: watchfiles>=0.13 in e:\\anaconda\\lib\\site-packages (from uvicorn[standard]) (1.1.1)\n",
      "Requirement already satisfied: websockets>=10.4 in e:\\anaconda\\lib\\site-packages (from uvicorn[standard]) (15.0.1)\n",
      "Requirement already satisfied: charset-normalizer<4,>=2 in e:\\anaconda\\lib\\site-packages (from requests) (3.3.2)\n",
      "Requirement already satisfied: idna<4,>=2.5 in e:\\anaconda\\lib\\site-packages (from requests) (3.7)\n",
      "Requirement already satisfied: urllib3<3,>=1.21.1 in e:\\anaconda\\lib\\site-packages (from requests) (2.2.3)\n",
      "Requirement already satisfied: certifi>=2017.4.17 in e:\\anaconda\\lib\\site-packages (from requests) (2025.1.31)\n",
      "Requirement already satisfied: annotated-types>=0.4.0 in e:\\anaconda\\lib\\site-packages (from pydantic!=1.8,!=1.8.1,!=2.0.0,!=2.0.1,!=2.1.0,<3.0.0,>=1.7.4->fastapi) (0.6.0)\n",
      "Requirement already satisfied: pydantic-core==2.20.1 in e:\\anaconda\\lib\\site-packages (from pydantic!=1.8,!=1.8.1,!=2.0.0,!=2.0.1,!=2.1.0,<3.0.0,>=1.7.4->fastapi) (2.20.1)\n",
      "Requirement already satisfied: anyio<5,>=3.6.2 in e:\\anaconda\\lib\\site-packages (from starlette<0.49.0,>=0.40.0->fastapi) (4.2.0)\n",
      "Requirement already satisfied: sniffio>=1.1 in e:\\anaconda\\lib\\site-packages (from anyio<5,>=3.6.2->starlette<0.49.0,>=0.40.0->fastapi) (1.3.0)\n",
      "Note: you may need to restart the kernel to use updated packages.\n"
     ]
    }
   ],
   "source": [
    "pip install fastapi \"uvicorn[standard]\" requests "
   ]
  },
  {
   "cell_type": "code",
   "execution_count": null,
   "id": "f4be17e4",
   "metadata": {},
   "outputs": [],
   "source": [
    "\n",
    "import requests\n",
    "from fastapi import FastAPI\n",
    "\n",
    "\n",
    "API_KEY = \"Your API KEY\" \n",
    "BASE_URL = \"https://api.openweathermap.org/data/2.5/weather\"\n",
    "\n",
    "app = FastAPI()\n",
    "\n",
    "\n",
    "def get_recommendation(weather_description: str, temperature: float) -> str:\n",
    "    weather_description = weather_description.lower()\n",
    "    if \"rain\" in weather_description or \"storm\" in weather_description:\n",
    "        return \"Perfect day to visit a museum or watch a movie.\"\n",
    "    elif temperature > 25:\n",
    "        return \"It's hot! A great day for the beach or a swim.\"\n",
    "    elif temperature > 15:\n",
    "        return \"Pleasant weather. How about a walk in the park or a bike ride?\"\n",
    "    elif temperature < 5:\n",
    "        return \"It's cold! A good time for some indoor ice skating or a cozy cafe.\"\n",
    "    else:\n",
    "        return \"It's a bit chilly. A good day for a brisk walk or some shopping.\"\n",
    "\n",
    "\n",
    "@app.get(\"/recommendation/{city}\")\n",
    "def get_activity_recommendation(city: str):\n",
    "    \n",
    "    request_url = f\"{BASE_URL}?q={city}&appid={API_KEY}\"\n",
    "    response = requests.get(request_url)\n",
    "\n",
    "    if response.status_code == 200:\n",
    "        data = response.json()\n",
    "\n",
    "        if data.get('cod') == '404':\n",
    "            return {\"error\": f\"City '{city}' not found.\"}\n",
    "\n",
    "        \n",
    "        weather_description = data['weather'][0]['description']\n",
    "        temperature_kelvin = data['main']['temp']\n",
    "        temperature_celsius = temperature_kelvin - 273.15\n",
    "\n",
    "        \n",
    "        recommendation = get_recommendation(weather_description, temperature_celsius)\n",
    "\n",
    "        \n",
    "        return {\n",
    "            \"city\": city,\n",
    "            \"weather\": weather_description,\n",
    "            \"temperature_celsius\": round(temperature_celsius, 2),\n",
    "            \"recommendation\": recommendation\n",
    "        }\n",
    "    else:\n",
    "        return {\"error\": \"Could not connect to the weather service.\"}"
   ]
  },
  {
   "cell_type": "code",
   "execution_count": null,
   "id": "d8816950",
   "metadata": {},
   "outputs": [],
   "source": []
  }
 ],
 "metadata": {
  "kernelspec": {
   "display_name": "base",
   "language": "python",
   "name": "python3"
  },
  "language_info": {
   "codemirror_mode": {
    "name": "ipython",
    "version": 3
   },
   "file_extension": ".py",
   "mimetype": "text/x-python",
   "name": "python",
   "nbconvert_exporter": "python",
   "pygments_lexer": "ipython3",
   "version": "3.12.7"
  }
 },
 "nbformat": 4,
 "nbformat_minor": 5
}
